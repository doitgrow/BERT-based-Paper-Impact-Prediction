{
 "cells": [
  {
   "cell_type": "code",
   "execution_count": 1,
   "metadata": {},
   "outputs": [],
   "source": [
    "from pybliometrics.scopus import AbstractRetrieval, ScopusSearch\n",
    "from tqdm import tqdm\n",
    "import pandas as pd"
   ]
  },
  {
   "cell_type": "code",
   "execution_count": 2,
   "metadata": {},
   "outputs": [
    {
     "name": "stdout",
     "output_type": "stream",
     "text": [
      "AI 논문 개수: 65470\n",
      "AE 논문 개수: 39347\n"
     ]
    }
   ],
   "source": [
    "# X 데이터 수집을 위한 기준 데이터 생성\n",
    "with open(\"rsc/preparation_data/AI_target_eids_2005-2010.txt\", \"r\") as f:\n",
    "     ai_paper_eids = [eid.strip() for eid in f.readlines()]\n",
    "print(\"AI 논문 개수:\", len(ai_paper_eids))\n",
    "\n",
    "with open(\"rsc/preparation_data/automotive_target_eids_2005-2010.txt\", \"r\") as f:\n",
    "     ae_paper_eids = [eid.strip() for eid in f.readlines()]\n",
    "print(\"AE 논문 개수:\", len(ae_paper_eids))\n",
    "\n",
    "df_ai = pd.DataFrame({'eid':ai_paper_eids})\n",
    "df_ai['div'] = 'AI'\n",
    "df_ae = pd.DataFrame({'eid':ae_paper_eids})\n",
    "df_ae['div'] = 'AE'\n",
    "\n",
    "df = pd.concat([df_ai, df_ae]).reset_index(drop=True)"
   ]
  },
  {
   "cell_type": "markdown",
   "metadata": {},
   "source": [
    "coverDate, title, description, abstract, "
   ]
  },
  {
   "cell_type": "code",
   "execution_count": 6,
   "metadata": {},
   "outputs": [
    {
     "name": "stderr",
     "output_type": "stream",
     "text": [
      "100%|██████████| 104817/104817 [01:00<00:00, 1725.86it/s] \n"
     ]
    }
   ],
   "source": [
    "ab_objs = []\n",
    "for eid in tqdm(df.loc[:, 'eid']):\n",
    "    try:\n",
    "        ab = AbstractRetrieval(eid, view='FULL')\n",
    "        ab_objs.append(ab)\n",
    "    except:\n",
    "        pass"
   ]
  },
  {
   "cell_type": "code",
   "execution_count": 9,
   "metadata": {},
   "outputs": [
    {
     "ename": "IndexError",
     "evalue": "list index out of range",
     "output_type": "error",
     "traceback": [
      "\u001b[0;31m---------------------------------------------------------------------------\u001b[0m",
      "\u001b[0;31mIndexError\u001b[0m                                Traceback (most recent call last)",
      "\u001b[0;32m/var/folders/t5/xglnp36d6jl1w3568_cdr5zm0000gn/T/ipykernel_71361/1280507874.py\u001b[0m in \u001b[0;36m<module>\u001b[0;34m\u001b[0m\n\u001b[0;32m----> 1\u001b[0;31m \u001b[0mAbstractRetrieval\u001b[0m\u001b[0;34m(\u001b[0m\u001b[0;34m'2-s2.0-33750451262'\u001b[0m\u001b[0;34m,\u001b[0m \u001b[0mview\u001b[0m\u001b[0;34m=\u001b[0m\u001b[0;34m'FULL'\u001b[0m\u001b[0;34m)\u001b[0m\u001b[0;34m\u001b[0m\u001b[0;34m\u001b[0m\u001b[0m\n\u001b[0m",
      "\u001b[0;32m~/opt/anaconda3/envs/myvenv/lib/python3.7/site-packages/pybliometrics/scopus/abstract_retrieval.py\u001b[0m in \u001b[0;36m__init__\u001b[0;34m(self, identifier, refresh, view, id_type, **kwds)\u001b[0m\n\u001b[1;32m    656\u001b[0m         \u001b[0mself\u001b[0m\u001b[0;34m.\u001b[0m\u001b[0m_refresh\u001b[0m \u001b[0;34m=\u001b[0m \u001b[0mrefresh\u001b[0m\u001b[0;34m\u001b[0m\u001b[0;34m\u001b[0m\u001b[0m\n\u001b[1;32m    657\u001b[0m         Retrieval.__init__(self, identifier=identifier, id_type=id_type,\n\u001b[0;32m--> 658\u001b[0;31m                            api='AbstractRetrieval', **kwds)\n\u001b[0m\u001b[1;32m    659\u001b[0m         \u001b[0mself\u001b[0m\u001b[0;34m.\u001b[0m\u001b[0m_json\u001b[0m \u001b[0;34m=\u001b[0m \u001b[0mself\u001b[0m\u001b[0;34m.\u001b[0m\u001b[0m_json\u001b[0m\u001b[0;34m[\u001b[0m\u001b[0;34m'abstracts-retrieval-response'\u001b[0m\u001b[0;34m]\u001b[0m\u001b[0;34m\u001b[0m\u001b[0;34m\u001b[0m\u001b[0m\n\u001b[1;32m    660\u001b[0m         \u001b[0mself\u001b[0m\u001b[0;34m.\u001b[0m\u001b[0m_head\u001b[0m \u001b[0;34m=\u001b[0m \u001b[0mchained_get\u001b[0m\u001b[0;34m(\u001b[0m\u001b[0mself\u001b[0m\u001b[0;34m.\u001b[0m\u001b[0m_json\u001b[0m\u001b[0;34m,\u001b[0m \u001b[0;34m[\u001b[0m\u001b[0;34m\"item\"\u001b[0m\u001b[0;34m,\u001b[0m \u001b[0;34m\"bibrecord\"\u001b[0m\u001b[0;34m,\u001b[0m \u001b[0;34m\"head\"\u001b[0m\u001b[0;34m]\u001b[0m\u001b[0;34m,\u001b[0m \u001b[0;34m{\u001b[0m\u001b[0;34m}\u001b[0m\u001b[0;34m)\u001b[0m\u001b[0;34m\u001b[0m\u001b[0;34m\u001b[0m\u001b[0m\n",
      "\u001b[0;32m~/opt/anaconda3/envs/myvenv/lib/python3.7/site-packages/pybliometrics/scopus/superclasses/retrieval.py\u001b[0m in \u001b[0;36m__init__\u001b[0;34m(self, identifier, api, id_type, **kwds)\u001b[0m\n\u001b[1;32m     46\u001b[0m         \u001b[0;31m# Parse file contents\u001b[0m\u001b[0;34m\u001b[0m\u001b[0;34m\u001b[0m\u001b[0;34m\u001b[0m\u001b[0m\n\u001b[1;32m     47\u001b[0m         \u001b[0mparams\u001b[0m \u001b[0;34m=\u001b[0m \u001b[0;34m{\u001b[0m\u001b[0;34m'view'\u001b[0m\u001b[0;34m:\u001b[0m \u001b[0mself\u001b[0m\u001b[0;34m.\u001b[0m\u001b[0m_view\u001b[0m\u001b[0;34m,\u001b[0m \u001b[0;34m**\u001b[0m\u001b[0mkwds\u001b[0m\u001b[0;34m}\u001b[0m\u001b[0;34m\u001b[0m\u001b[0;34m\u001b[0m\u001b[0m\n\u001b[0;32m---> 48\u001b[0;31m         \u001b[0mBase\u001b[0m\u001b[0;34m.\u001b[0m\u001b[0m__init__\u001b[0m\u001b[0;34m(\u001b[0m\u001b[0mself\u001b[0m\u001b[0;34m,\u001b[0m \u001b[0mparams\u001b[0m\u001b[0;34m=\u001b[0m\u001b[0mparams\u001b[0m\u001b[0;34m,\u001b[0m \u001b[0murl\u001b[0m\u001b[0;34m=\u001b[0m\u001b[0murl\u001b[0m\u001b[0;34m,\u001b[0m \u001b[0mapi\u001b[0m\u001b[0;34m=\u001b[0m\u001b[0mapi\u001b[0m\u001b[0;34m)\u001b[0m\u001b[0;34m\u001b[0m\u001b[0;34m\u001b[0m\u001b[0m\n\u001b[0m",
      "\u001b[0;32m~/opt/anaconda3/envs/myvenv/lib/python3.7/site-packages/pybliometrics/scopus/superclasses/base.py\u001b[0m in \u001b[0;36m__init__\u001b[0;34m(self, params, url, api, download, verbose, *args, **kwds)\u001b[0m\n\u001b[1;32m     57\u001b[0m                 \u001b[0mself\u001b[0m\u001b[0;34m.\u001b[0m\u001b[0m_json\u001b[0m \u001b[0;34m=\u001b[0m \u001b[0mloads\u001b[0m\u001b[0;34m(\u001b[0m\u001b[0mfname\u001b[0m\u001b[0;34m.\u001b[0m\u001b[0mread_text\u001b[0m\u001b[0;34m(\u001b[0m\u001b[0;34m)\u001b[0m\u001b[0;34m)\u001b[0m\u001b[0;34m\u001b[0m\u001b[0;34m\u001b[0m\u001b[0m\n\u001b[1;32m     58\u001b[0m         \u001b[0;32melse\u001b[0m\u001b[0;34m:\u001b[0m\u001b[0;34m\u001b[0m\u001b[0;34m\u001b[0m\u001b[0m\n\u001b[0;32m---> 59\u001b[0;31m             \u001b[0mresp\u001b[0m \u001b[0;34m=\u001b[0m \u001b[0mget_content\u001b[0m\u001b[0;34m(\u001b[0m\u001b[0murl\u001b[0m\u001b[0;34m,\u001b[0m \u001b[0mapi\u001b[0m\u001b[0;34m,\u001b[0m \u001b[0mparams\u001b[0m\u001b[0;34m,\u001b[0m \u001b[0;34m*\u001b[0m\u001b[0margs\u001b[0m\u001b[0;34m,\u001b[0m \u001b[0;34m**\u001b[0m\u001b[0mkwds\u001b[0m\u001b[0;34m)\u001b[0m\u001b[0;34m\u001b[0m\u001b[0;34m\u001b[0m\u001b[0m\n\u001b[0m\u001b[1;32m     60\u001b[0m             \u001b[0mheader\u001b[0m \u001b[0;34m=\u001b[0m \u001b[0mresp\u001b[0m\u001b[0;34m.\u001b[0m\u001b[0mheaders\u001b[0m\u001b[0;34m\u001b[0m\u001b[0;34m\u001b[0m\u001b[0m\n\u001b[1;32m     61\u001b[0m             \u001b[0;32mif\u001b[0m \u001b[0msearch_request\u001b[0m\u001b[0;34m:\u001b[0m\u001b[0;34m\u001b[0m\u001b[0;34m\u001b[0m\u001b[0m\n",
      "\u001b[0;32m~/opt/anaconda3/envs/myvenv/lib/python3.7/site-packages/pybliometrics/scopus/utils/get_content.py\u001b[0m in \u001b[0;36mget_content\u001b[0;34m(url, api, params, **kwds)\u001b[0m\n\u001b[1;32m     56\u001b[0m \u001b[0;34m\u001b[0m\u001b[0m\n\u001b[1;32m     57\u001b[0m     \u001b[0;31m# Set header, params and proxy\u001b[0m\u001b[0;34m\u001b[0m\u001b[0;34m\u001b[0m\u001b[0;34m\u001b[0m\u001b[0m\n\u001b[0;32m---> 58\u001b[0;31m     header = {'X-ELS-APIKey': KEYS[0],\n\u001b[0m\u001b[1;32m     59\u001b[0m               \u001b[0;34m'Accept'\u001b[0m\u001b[0;34m:\u001b[0m \u001b[0;34m'application/json'\u001b[0m\u001b[0;34m,\u001b[0m\u001b[0;34m\u001b[0m\u001b[0;34m\u001b[0m\u001b[0m\n\u001b[1;32m     60\u001b[0m               'User-Agent': user_agent}\n",
      "\u001b[0;31mIndexError\u001b[0m: list index out of range"
     ]
    }
   ],
   "source": [
    "AbstractRetrieval('2-s2.0-33750451262', view='FULL')"
   ]
  },
  {
   "cell_type": "markdown",
   "metadata": {},
   "source": [
    "2-s2.0-55549138016 의 아이디가 retrieval 되지 않음 => 확인 필요"
   ]
  },
  {
   "cell_type": "code",
   "execution_count": 104,
   "metadata": {},
   "outputs": [],
   "source": [
    "title = ab.title # Final\n",
    "abstract = ab.abstract # Final\n",
    "author_keywords = ab.authkeywords # Final\n",
    "index_keywords = ab.idxterms\n",
    "published_year = ab.coverDate[:4] # Final\n",
    "language = ab.language # 영어 기반의 버트 모델이므로 영어 이외의 문서는 제거\n",
    "affiliation_ids = \";\".join([str(affiliation_info.id) for affiliation_info in ab.affiliation]) # 소속 기관의 연구자 수, 총 논문 수를 구할 ID\n",
    "author_ids = \";\".join([str(author_info.auid) for author_info in ab.authors])\n",
    "journal_issn = ab.issn"
   ]
  },
  {
   "cell_type": "code",
   "execution_count": 106,
   "metadata": {},
   "outputs": [
    {
     "data": {
      "text/plain": [
       "[Reference(position='1', id='0003728220', doi=None, title=None, authors='Nilsson, N.J.', authors_auid=None, authors_affiliationid=None, sourcetitle='Learning Machines', publicationyear='1965', volume=None, issue=None, first=None, last=None, citedbycount=None, type=None, text='McGraw-Hill', fulltext='N.J. Nilsson, Learning Machines. McGraw-Hill, 1965.'),\n",
       " Reference(position='2', id='0003450542', doi=None, title=None, authors='Vapnik, V.', authors_auid=None, authors_affiliationid=None, sourcetitle='The Nature of Statistical Learning Theory', publicationyear='1995', volume=None, issue=None, first=None, last=None, citedbycount=None, type=None, text='Springer', fulltext='V. Vapnik, The Nature of Statistical Learning Theory. Springer, 1995.'),\n",
       " Reference(position='3', id=None, doi=None, title=None, authors='', authors_auid=None, authors_affiliationid=None, sourcetitle=None, publicationyear='2009', volume=None, issue=None, first=None, last=None, citedbycount=None, type=None, text='OSU-SVM-TOOLBOX', fulltext='OSU-SVM-TOOLBOX, http://svm.sourceforge.net, 2009.'),\n",
       " Reference(position='4', id='34147148981', doi=None, title='Additive logistic regression: A statistical view of boosting', authors='Friedman, J.; Hastie, T.; Tibshirani, R.', authors_auid=None, authors_affiliationid=None, sourcetitle='The Annals of Statistics', publicationyear='1998', volume=None, issue=None, first=None, last=None, citedbycount=None, type=None, text=None, fulltext='J. Friedman, T. Hastie, and R. Tibshirani, \"Additive Logistic Regression: A Statistical View of Boosting,\" The Annals of Statistics, vol. 38, pp. 337-374, 1998.'),\n",
       " Reference(position='5', id='24044435942', doi=None, title='Reducing multiclass to binary: A unifying approach for margin classifiers', authors='Allwein, E.L.; Schapire, R.E.; Singer, Y.', authors_auid=None, authors_affiliationid=None, sourcetitle='Journal of Machine Learning Research', publicationyear='2001', volume=None, issue=None, first=None, last=None, citedbycount=None, type=None, text=None, fulltext='E. Allwein, R. Schapire, and Y. Singer, \"Reducing Multiclass to Binary: A Unifying Approach for Margin Classifiers,\" J. Machine Learning Research, vol. 1, pp. 113-141, 2002. (Pubitemid 33738778)'),\n",
       " Reference(position='6', id='0000406788', doi=None, title='Solving multiclass learning problems via error-correcting output codes', authors='Dietterich, T.; Bakiri, G.', authors_auid=None, authors_affiliationid=None, sourcetitle='J. Artificial Intelligence Research', publicationyear='1995', volume=None, issue=None, first=None, last=None, citedbycount=None, type=None, text=None, fulltext='T. Dietterich and G. Bakiri, \"Solving Multiclass Learning Problems via Error-Correcting Output Codes,\" J. Artificial Intelligence Research, vol. 2, pp. 263-286, 1995.'),\n",
       " Reference(position='7', id='0037368938', doi=None, title='Coding and decoding strategies for multi-class learning problems', authors='Windeatt, T.; Ghaderi, R.', authors_auid=None, authors_affiliationid=None, sourcetitle='Information Fusion', publicationyear='2003', volume=None, issue=None, first=None, last=None, citedbycount=None, type=None, text='DOI 10.1016/S1566-2535(02)00101-X, PII S156625350200101X', fulltext='T. Windeatt and R. Ghaderi, \"Coding and Decoding for Multi-Class Learning Problems,\" Information Fusion, vol. 4, pp. 11-21, 2003. (Pubitemid 36210678)'),\n",
       " Reference(position='8', id='0032355984', doi=None, title='Classification by pairwise grouping', authors='Hastie, T.; Tibshirani, R.', authors_auid=None, authors_affiliationid=None, sourcetitle='Proc. Conf. Neural Information Processing Systems', publicationyear='1998', volume=None, issue=None, first=None, last=None, citedbycount=None, type=None, text=None, fulltext='T. Hastie and R. Tibshirani, \"Classification by Pairwise Grouping,\" Proc. Conf. Neural Information Processing Systems, vol. 26, pp. 451-471, 1998.'),\n",
       " Reference(position='9', id='0036568032', doi=None, title='On the learnability and design of output codes for multiclass problems', authors='Crammer, K.; Singer, Y.', authors_auid=None, authors_affiliationid=None, sourcetitle='Machine Learning', publicationyear='2002', volume=None, issue=None, first=None, last=None, citedbycount=None, type=None, text='DOI 10.1023/A:1013637720281, Computational Learning Theory', fulltext='K. Crammer and Y. Singer, \"On the Learnability and Design of Output Codes for Multi-Class Problems,\" Machine Learning, vol. 47, pp. 201-233, 2002. (Pubitemid 34126110)'),\n",
       " Reference(position='10', id='33645963453', doi=None, title='Discriminant ecoc: A heuristic method for application dependent design of error correcting output codes', authors='Pujol, O.; Radeva, P.; Vitriá, J.', authors_auid=None, authors_affiliationid=None, sourcetitle='IEEE Trans. Pattern Analysis and Machine Intelligence', publicationyear='2006', volume=None, issue=None, first=None, last=None, citedbycount=None, type=None, text='June', fulltext='O. Pujol, P. Radeva, and J. Vitriá, \"Discriminant ECOC: A Heuristic Method for Application Dependent Design of Error Correcting Output Codes,\" IEEE Trans. Pattern Analysis and Machine Intelligence, vol. 28, no. 6, pp. 1001-1007, June 2006.'),\n",
       " Reference(position='11', id='56749117943', doi=None, title='In defense of one-vs-all classification', authors='Rifkin, R.; Klautau, A.', authors_auid=None, authors_affiliationid=None, sourcetitle='J. Machine Learning Research', publicationyear='2004', volume=None, issue=None, first=None, last=None, citedbycount=None, type=None, text=None, fulltext='R. Rifkin and A. Klautau, \"In Defense of One-vs-All Classification,\" J. Machine Learning Research, vol. 5, pp. 101-141, 2004.'),\n",
       " Reference(position='12', id='84871563362', doi=None, title='An incremental node embedding technique for error correcting output codes', authors='Pujol, O.; Escalera, S.; Radeva, P.', authors_auid=None, authors_affiliationid=None, sourcetitle='Pattern Recognition', publicationyear=None, volume=None, issue=None, first=None, last=None, citedbycount=None, type=None, text='to appear', fulltext='O. Pujol, S. Escalera, and P. Radeva, \"An Incremental Node Embedding Technique for Error Correcting Output Codes,\" Pattern Recognition, to appear.'),\n",
       " Reference(position='13', id='34548419623', doi=None, title='Boosted ecoc ensembles for face recognition', authors='Windeatt, T.; Ardeshir, G.', authors_auid=None, authors_affiliationid=None, sourcetitle=\"Proc. Int'l Conf. Visual Information Eng\", publicationyear='2003', volume=None, issue=None, first=None, last=None, citedbycount=None, type=None, text=None, fulltext='T. Windeatt and G. Ardeshir, \"Boosted ECOC Ensembles for Face Recognition,\" Proc. Int\\'l Conf. Visual Information Eng., pp. 165-168, 2003.'),\n",
       " Reference(position='14', id='0035686724', doi=None, title='Face verification using error correcting output codes', authors='Kittler, J.; Ghaderi, R.; Windeatt, T.; Matas, J.', authors_auid=None, authors_affiliationid=None, sourcetitle='Proc. IEEE CS Conf. Computer Vision and Pattern Recognition', publicationyear='2001', volume=None, issue=None, first=None, last=None, citedbycount=None, type=None, text=None, fulltext='J. Kittler, R. Ghaderi, T. Windeatt, and J. Matas, \"Face Verification Using Error Correcting Output Codes,\" Proc. IEEE CS Conf. Computer Vision and Pattern Recognition, vol. 1, pp. 755-760, 2001.'),\n",
       " Reference(position='15', id='18744408629', doi=None, title='Combining labeled and unlabeled data for text classification with a large number of categories', authors='Ghani, R.', authors_auid=None, authors_affiliationid=None, sourcetitle=\"Proc. Int'l Conf. Data Mining\", publicationyear='2001', volume=None, issue=None, first=None, last=None, citedbycount=None, type=None, text=None, fulltext='R. Ghani, \"Combining Labeled and Unlabeled Data for Text Classification with a Large Number of Categories,\" Proc. Int\\'l Conf. Data Mining, pp. 597-598, 2001.'),\n",
       " Reference(position='16', id='33947414044', doi=None, title='Unconstrained numeral pair recognition using enhanced error correcting output coding: A holistic approach', authors='Zhou, J.; Suen, C.Y.', authors_auid=None, authors_affiliationid=None, sourcetitle='Proceedings of the International Conference on Document Analysis and Recognition, ICDAR', publicationyear='2005', volume=None, issue=None, first=None, last=None, citedbycount=None, type=None, text='DOI 10.1109/ICDAR.2005.246, 1575593, Proceedings of the Eighth International Conference on Document Analysis and Recognition', fulltext='J. Zhou and C. Suen, \"Unconstrained Numeral Pair Recognition Using Enhanced Error Correcting Output Coding: A Holistic Approach,\" Proc. Int\\'l Conf. Document Analysis and Recognition, vol. 1, pp. 484-488, 2005. (Pubitemid 46442373)'),\n",
       " Reference(position='17', id='1242263799', doi=None, title='New results on error correcting output codes of kernel machines', authors='Passerini, A.; Pontil, M.; Frasconi, P.', authors_auid=None, authors_affiliationid=None, sourcetitle='IEEE Trans. Neural Networks', publicationyear='2004', volume=None, issue=None, first=None, last=None, citedbycount=None, type=None, text='Jan', fulltext='A. Passerini, M. Pontil, and P. Frasconi, \"New Results on Error Correcting Output Codes of Kernel Machines,\" IEEE Trans. Neural Networks, vol. 15, no. 1, pp. 45-54, Jan. 2004.'),\n",
       " Reference(position='18', id='7744240976', doi=None, title='Multiclass learning by probabilistic embeddings', authors='Dekel, O.; Singer, Y.', authors_auid=None, authors_affiliationid=None, sourcetitle='Proc. Conf. Neural Information Processing Systems', publicationyear='2002', volume=None, issue=None, first=None, last=None, citedbycount=None, type=None, text=None, fulltext='O. Dekel and Y. Singer, \"Multiclass Learning by Probabilistic Embeddings,\" Proc. Conf. Neural Information Processing Systems, vol. 15, 2002.'),\n",
       " Reference(position='19', id='33845977716', doi=None, title='Combining classification improvements by ensemble processing', authors='Ishii, N.; Tsuchiya, E.; Bao, Y.; Yamaguchi, N.', authors_auid=None, authors_affiliationid=None, sourcetitle='Proceedings - Third ACIS International Conference on Software Engineering Research, Management and Applications, SERA 2005', publicationyear='2005', volume=None, issue=None, first=None, last=None, citedbycount=None, type=None, text='DOI 10.1109/SERA.2005.30, 1563168, Proceedings - Third ACIS International Conference on Software Engineering Research, Management and Applications, SERA 2005', fulltext='N. Ishii, E. Tsuchiya, Y. Bao, and N. Yamaguchi, \"Combining Classification Improvements by Ensemble Processing,\" Proc. ACIS Int. Conf. Software Eng. Research, Management, and Applications, pp. 240-246, 2005. (Pubitemid 46039726)'),\n",
       " Reference(position='20', id='0035350036', doi=None, title='Stochastic organization of output codes in multiclass learning problems', authors='Utschick, W.; Weichselberger, W.', authors_auid=None, authors_affiliationid=None, sourcetitle='Neural Computation', publicationyear='2004', volume=None, issue=None, first=None, last=None, citedbycount=None, type=None, text=None, fulltext='W. Utschick and W. Weichselberger, \"Stochastic Organization of Output Codes in Multiclass Learning Problems,\" Neural Computation, vol. 13, no. 5, pp. 1065-1102, 2004.'),\n",
       " Reference(position='21', id='0001648184', doi=None, title='Error-correcting output codes corrects bias and variance', authors='Dietterich, T.; Kong, E.', authors_auid=None, authors_affiliationid=None, sourcetitle=\"Proc. 21th Int'l Conf. Machine Learning, S. Prieditis and S. Russell, eds\", publicationyear='1995', volume=None, issue=None, first=None, last=None, citedbycount=None, type=None, text=None, fulltext='T. Dietterich and E. Kong, \"Error-Correcting Output Codes Corrects Bias and Variance,\" Proc. 21th Int\\'l Conf. Machine Learning, S. Prieditis and S. Russell, eds., pp. 313-321, 1995.'),\n",
       " Reference(position='22', id='43249089226', doi=None, title='On the accuracy and performance of the geomobil system', authors='Casacuberta, J.; Miranda, J.; Pla, M.; Sanchez, S.; Serra, A.; Talaya, J.', authors_auid=None, authors_affiliationid=None, sourcetitle=\"Proc. Congress of Int'l Soc. for Photogrammetry and Remote Sensing\", publicationyear='2004', volume=None, issue=None, first=None, last=None, citedbycount=None, type=None, text=None, fulltext='J. Casacuberta, J. Miranda, M. Pla, S. Sanchez, A. Serra, and J. Talaya, \"On the Accuracy and Performance of the Geomobil System,\" Proc. Congress of Int\\'l Soc. for Photogrammetry and Remote Sensing, 2004.'),\n",
       " Reference(position='23', id='0033281701', doi=None, title='Improved boosting algorithms using confidence-rated predictions', authors='Schapire, R.E.; Singer, Y.', authors_auid=None, authors_affiliationid=None, sourcetitle='Machine Learning', publicationyear='1999', volume=None, issue=None, first=None, last=None, citedbycount=None, type=None, text='DOI 10.1023/A:1007614523901', fulltext='R. Schapire and Y. Singer, \"Improved Boosting Algorithms Using Confidence-Rated Prediction,\" Machine Learning, vol. 37, no. 3, pp. 297-336, 1999. (Pubitemid 32210620)'),\n",
       " Reference(position='24', id='34250749560', doi=None, title=None, authors='Zhu, J.; Rosset, S.; Zou, H.; Hastie, T.', authors_auid=None, authors_affiliationid=None, sourcetitle='Multi-Class Adaboost. A Multiclass Generalization of the Adaboost Algorithm, Based on a Generalization of the Exponential Loss', publicationyear='2005', volume=None, issue=None, first=None, last=None, citedbycount=None, type=None, text=None, fulltext='J. Zhu, S. Rosset, H. Zou, and T. Hastie, \"Multi-Class Adaboost. A Multiclass Generalization of the Adaboost Algorithm, Based on a Generalization of the Exponential Loss,\" 2005.'),\n",
       " Reference(position='25', id='10944247285', doi=None, title='Error correcting output codes vs. Fuzzy support vector machines', authors='Kikuchi, T.; Abe, S.', authors_auid=None, authors_affiliationid=None, sourcetitle='Proc. Conf. Artificial Neural Networks in Pattern Recognition', publicationyear='2003', volume=None, issue=None, first=None, last=None, citedbycount=None, type=None, text=None, fulltext='T. Kikuchi and S. Abe, \"Error Correcting Output Codes vs. Fuzzy Support Vector Machines,\" Proc. Conf. Artificial Neural Networks in Pattern Recognition, 2003.'),\n",
       " Reference(position='26', id='84871556450', doi=None, title='Error-Correcting Output Codes for Local Learners', authors='Ricci, F.; Aha, D.W.', authors_auid=None, authors_affiliationid=None, sourcetitle='Lecture Notes In Computer Science', publicationyear='1998', volume=None, issue=None, first=None, last=None, citedbycount=None, type=None, text='Machine Learning: ECML-98', fulltext='F. Ricci and D. Aha, \"Error-Correcting Output Codes for Local Learners,\" Proc. European Conf. Machine Learning, pp. 280-291, 1998. (Pubitemid 128067193)'),\n",
       " Reference(position='27', id='34447532140', doi=None, title='Boosted Landmarks of Contextual Descriptors and Forest-ECOC: A novel framework to detect and classify objects in cluttered scenes', authors='Escalera, S.; Pujol, O.; Radeva, P.', authors_auid=None, authors_affiliationid=None, sourcetitle='Pattern Recognition Letters', publicationyear='2007', volume=None, issue=None, first=None, last=None, citedbycount=None, type=None, text='DOI 10.1016/j.patrec.2007.05.007, PII S0167865507001523', fulltext='S. Escalera, O. Pujol, and P. Radeva, \"Boosted Landmarks of Contextual Descriptors and Forest-ECOC: A Novel Framework to Detect and Classify Objects in Clutter Scenes,\" Pattern Recognition Letters, vol. 28, no. 13, pp. 1759-1768, 2007. (Pubitemid 47064476)'),\n",
       " Reference(position='28', id='26444434301', doi=None, title='Decoding rules for error correcting output code ensembles', authors='Smith, R.S.; Windeatt, T.', authors_auid=None, authors_affiliationid=None, sourcetitle='Lecture Notes in Computer Science', publicationyear='2005', volume=None, issue=None, first=None, last=None, citedbycount=None, type=None, text='Multiple Classifier Systems: 6th International Workshop, MCS 2005. Proceedings', fulltext='R.S. Smith and T. Windeatt, \"Decoding Rules for Error Correcting Output Code Ensembles,\" Multiple Classifier Systems, pp. 53-63, Springer, 2005. (Pubitemid 41422604)'),\n",
       " Reference(position='29', id='36948999941', doi=None, title=None, authors='Asuncion, A.; Newman, D.J.', authors_auid=None, authors_affiliationid=None, sourcetitle='UCI Machine Learning Repository', publicationyear='2007', volume=None, issue=None, first=None, last=None, citedbycount=None, type=None, text='Dept. of Information and Computer Science, Univ. of California, Irvine', fulltext='A. Asuncion and D.J. Newman, UCI Machine Learning Repository, Dept. of Information and Computer Science, Univ. of California, Irvine, http://www.ics.uci.edu/mlearn/MLRepository. html, 2007.'),\n",
       " Reference(position='30', id='29644438050', doi=None, title='Statistical comparisons of classifiers over multiple data sets', authors='Demsar, J.', authors_auid=None, authors_affiliationid=None, sourcetitle='Journal of Machine Learning Research', publicationyear='2006', volume=None, issue=None, first=None, last=None, citedbycount=None, type=None, text=None, fulltext='J. Demsar, \"Statistical Comparisons of Classifiers over Multiple Data Sets,\" J. Machine Learning Research, vol. 7, pp. 1-30, 2006. (Pubitemid 43022939)')]"
      ]
     },
     "execution_count": 106,
     "metadata": {},
     "output_type": "execute_result"
    }
   ],
   "source": [
    "ab.references"
   ]
  },
  {
   "cell_type": "code",
   "execution_count": 91,
   "metadata": {},
   "outputs": [
    {
     "data": {
      "text/plain": [
       "[Author(auid=22634035000, indexed_name='Escalera S.', surname='Escalera', given_name='Sergio', affiliation='60104040'),\n",
       " Author(auid=13005298900, indexed_name='Pujol O.', surname='Pujol', given_name='Oriol', affiliation='60104040'),\n",
       " Author(auid=56208405900, indexed_name='Radeva P.', surname='Radeva', given_name='Petia', affiliation='60104040')]"
      ]
     },
     "execution_count": 91,
     "metadata": {},
     "output_type": "execute_result"
    }
   ],
   "source": [
    "ab.authors"
   ]
  },
  {
   "cell_type": "code",
   "execution_count": 64,
   "metadata": {},
   "outputs": [
    {
     "data": {
      "text/plain": [
       "[Document(eid='2-s2.0-84871632945', doi='10.1109/TPAMI.2010.8', pii=None, pubmed_id=None, title='The 30th Anniversary of the IEEE Transactions on Pattern Analysis and Machine Intelligence', subtype='ed', subtypeDescription='Editorial', creator='Zabih R.', afid=None, affilname=None, affiliation_city=None, affiliation_country=None, author_count='1', author_names='Zabih, Ramin', author_ids='6701366172', author_afids=None, coverDate='2010-12-01', coverDisplayDate='2010', publicationName='IEEE Transactions on Pattern Analysis and Machine Intelligence', issn='01628828', source_id='24254', eIssn=None, aggregationType='Journal', volume='32', issueIdentifier='1', article_number='5339306', pageRange='1', description=None, authkeywords=None, citedby_count=0, openaccess=0, fund_acr=None, fund_no='undefined', fund_sponsor=None)]"
      ]
     },
     "execution_count": 64,
     "metadata": {},
     "output_type": "execute_result"
    }
   ],
   "source": [
    "s.results"
   ]
  }
 ],
 "metadata": {
  "interpreter": {
   "hash": "815b3a7e852c97d6cee03a12d50efbcdef06a63d6419ead64ab3efa89c9afa60"
  },
  "kernelspec": {
   "display_name": "Python 3.7.12 64-bit ('myvenv': conda)",
   "language": "python",
   "name": "python3"
  },
  "language_info": {
   "codemirror_mode": {
    "name": "ipython",
    "version": 3
   },
   "file_extension": ".py",
   "mimetype": "text/x-python",
   "name": "python",
   "nbconvert_exporter": "python",
   "pygments_lexer": "ipython3",
   "version": "3.7.12"
  },
  "orig_nbformat": 4
 },
 "nbformat": 4,
 "nbformat_minor": 2
}
