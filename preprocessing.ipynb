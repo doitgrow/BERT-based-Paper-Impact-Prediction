{
 "cells": [
  {
   "cell_type": "code",
   "execution_count": 168,
   "metadata": {},
   "outputs": [],
   "source": [
    "import pandas as pd\n",
    "from pybliometrics.scopus import AbstractRetrieval, AuthorRetrieval, SerialTitle\n",
    "from tqdm import tqdm"
   ]
  },
  {
   "cell_type": "code",
   "execution_count": 191,
   "metadata": {},
   "outputs": [],
   "source": [
    "def get_eids(file_path):\n",
    "    with open(file_path, 'r') as f:\n",
    "        eids = [data.strip() for data in f.readlines()]\n",
    "    return eids\n",
    "\n",
    "def get_sjr_by_issn(issn, year):\n",
    "    source = SerialTitle(issn, years='1900-2021')\n",
    "    sjrlist = dict(source.sjrlist)\n",
    "    \n",
    "    return sjrlist[year]\n",
    "\n",
    "def get_biblio_by_eid(eid):\n",
    "    ab = AbstractRetrieval(eid, view=\"FULL\")\n",
    "    X_data = {}\n",
    "\n",
    "    # For novelty factor\n",
    "    X_data['title'] = ab.title\n",
    "    X_data['abstract'] = ab.abstract\n",
    "    X_data['idxterms'] = \";\".join(ab.idxterms) if ab.idxterms else \"\"\n",
    "\n",
    "    # For Journal-related factor\n",
    "    # X_data['issn'] = ab.issn # (4)\n",
    "    # X_data['jif_sjr'] = get_sjr_by_issn(issn, year)\n",
    "    \n",
    "    # For Paper-related factor\n",
    "    X_data['num_authors'] = len(ab.authors) # (6)\n",
    "    X_data['num_institutions'] = len([affils.id for affils in ab.affiliation]) # (7)\n",
    "    X_data['num_refers'] = ab.refcount # (8)\n",
    "    X_data['num_funding'] = len(ab.funding) if ab.funding else 0 # (9)\n",
    "\n",
    "    # For Author-related factor\n",
    "    \n",
    "    return pd.DataFrame(X_data, index=[eid])"
   ]
  },
  {
   "cell_type": "code",
   "execution_count": 136,
   "metadata": {},
   "outputs": [],
   "source": [
    "train_eids_path = r\"D:\\BERT-based-Paper-Impact-Prediction\\rsc\\preparation_data\\train_eids.txt\"\n",
    "eids = get_eids(train_eids_path)"
   ]
  },
  {
   "cell_type": "code",
   "execution_count": null,
   "metadata": {},
   "outputs": [],
   "source": [
    "rst_df = pd.DataFrame()\n",
    "for eid in tqdm(eids):\n",
    "    rst_df = rst_df.append(get_biblio_by_eid(eid))"
   ]
  },
  {
   "cell_type": "code",
   "execution_count": 12,
   "metadata": {},
   "outputs": [],
   "source": [
    "import pickle\n",
    "import pandas as pd\n",
    "from tqdm import tqdm\n",
    "# from pybliometrics.socpus import ScopusSearch"
   ]
  },
  {
   "cell_type": "code",
   "execution_count": 62,
   "metadata": {},
   "outputs": [],
   "source": [
    "with open(r\"D:\\BERT-based-Paper-Impact-Prediction\\rsc\\preparation_data\\ISSN_docData_dict_ai.pickle\", 'rb') as f:\n",
    "    data = pickle.load(f)\n",
    "# df = pd.read_pickle(r'D:\\BERT-based-Paper-Impact-Prediction\\rsc\\training_data\\training_data_AE_full.pickle')"
   ]
  },
  {
   "cell_type": "code",
   "execution_count": 64,
   "metadata": {},
   "outputs": [
    {
     "name": "stderr",
     "output_type": "stream",
     "text": [
      "100%|██████████| 233/233 [00:46<00:00,  5.01it/s]\n"
     ]
    }
   ],
   "source": [
    "datasets = pd.DataFrame()\n",
    "for d in tqdm(data.values()):\n",
    "    datasets = datasets.append(pd.DataFrame(d.results))"
   ]
  },
  {
   "cell_type": "code",
   "execution_count": 67,
   "metadata": {},
   "outputs": [],
   "source": [
    "datasets['Year'] = datasets['coverDate'].str[:4]"
   ]
  },
  {
   "cell_type": "code",
   "execution_count": 71,
   "metadata": {},
   "outputs": [],
   "source": [
    "with open(r'D:\\BERT-based-Paper-Impact-Prediction\\rsc\\preparation_data\\AI_target_eids_2005-2010.txt', 'w') as f:\n",
    "    f.write('\\n'.join(datasets[(datasets['Year'] >= '2005')&(datasets['Year'] <= '2010')]['eid']))"
   ]
  }
 ],
 "metadata": {
  "interpreter": {
   "hash": "b3ba2566441a7c06988d0923437866b63cedc61552a5af99d1f4fb67d367b25f"
  },
  "kernelspec": {
   "display_name": "Python 3.7.1 64-bit ('base': conda)",
   "language": "python",
   "name": "python3"
  },
  "language_info": {
   "codemirror_mode": {
    "name": "ipython",
    "version": 3
   },
   "file_extension": ".py",
   "mimetype": "text/x-python",
   "name": "python",
   "nbconvert_exporter": "python",
   "pygments_lexer": "ipython3",
   "version": "3.8.8"
  },
  "orig_nbformat": 4
 },
 "nbformat": 4,
 "nbformat_minor": 2
}
